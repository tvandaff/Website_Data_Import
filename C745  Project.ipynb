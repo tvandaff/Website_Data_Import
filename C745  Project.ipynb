{
 "cells": [
  {
   "cell_type": "code",
   "execution_count": 1,
   "metadata": {},
   "outputs": [],
   "source": [
    "import urllib.request\n",
    "from bs4 import BeautifulSoup"
   ]
  },
  {
   "cell_type": "code",
   "execution_count": null,
   "metadata": {},
   "outputs": [],
   "source": [
    "# Create/open a file called wunder.txt (which will be a comma-delimited file)\n",
    "f = open('carinfo.txt', 'w')\n",
    "\n",
    "# Iterate through months and day\n",
    "car = ['Ford', 'Honda', 'Hyundai', 'Toyota']\n",
    "model = ['Escape', 'CRV', 'Santa Fe', 'Rav 4']\n",
    "for m in car:\n",
    "   for d in model:\n",
    "\n",
    "      # Open wunderground.com url\n",
    "      cartype = '2009' + str(m) + str(d)\n",
    "      url = \"https://cars.usnews.com/cars-trucks/\" + str(m) + \"/\" + str(d) + \"2017.com\"\n",
    "      page = urllib.request.urlopen(url)\n",
    "\n",
    "      # Get temperature from page\n",
    "      soup = BeautifulSoup(page)\n",
    "      # dayTemp = soup.body.nobr.b.string\n",
    "      safety_rating = soup.findAll(attrs={\"class\":\"float-right item scorecard__value-label\"})[4].td.string\n",
    "\n",
    "      # Write timestamp and temperature to file\n",
    "      f.write(safety_rating)\n",
    "\n",
    "# Done getting data! Close file.\n",
    "f.close()"
   ]
  },
  {
   "cell_type": "code",
   "execution_count": null,
   "metadata": {},
   "outputs": [],
   "source": []
  }
 ],
 "metadata": {
  "kernelspec": {
   "display_name": "Python 3",
   "language": "python",
   "name": "python3"
  },
  "language_info": {
   "codemirror_mode": {
    "name": "ipython",
    "version": 3
   },
   "file_extension": ".py",
   "mimetype": "text/x-python",
   "name": "python",
   "nbconvert_exporter": "python",
   "pygments_lexer": "ipython3",
   "version": "3.6.8"
  }
 },
 "nbformat": 4,
 "nbformat_minor": 2
}
